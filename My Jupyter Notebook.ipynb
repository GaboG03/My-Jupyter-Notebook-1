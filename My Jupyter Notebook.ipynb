{
 "cells": [
  {
   "cell_type": "markdown",
   "id": "d25a3614",
   "metadata": {},
   "source": [
    "# My Jupyter Notebook on IBM Watson Studio"
   ]
  },
  {
   "cell_type": "markdown",
   "id": "6e4d6699",
   "metadata": {},
   "source": [
    "**Gabriel Granda** \n",
    "\n",
    "\n",
    "Estudiante"
   ]
  },
  {
   "cell_type": "markdown",
   "id": "855d0e36",
   "metadata": {},
   "source": [
    "*I am interested in data science because it allows finding solutions to various problems.*\n",
    "\n",
    "*I am interested in data science because it is currently one of the most demanded disciplines.*"
   ]
  },
  {
   "cell_type": "markdown",
   "id": "e411d2ce",
   "metadata": {},
   "source": [
    "### The following code returns the multiplication of the numbers 3 and 4"
   ]
  },
  {
   "cell_type": "code",
   "execution_count": 2,
   "id": "844f51ab",
   "metadata": {},
   "outputs": [
    {
     "data": {
      "text/plain": [
       "12"
      ]
     },
     "execution_count": 2,
     "metadata": {},
     "output_type": "execute_result"
    }
   ],
   "source": [
    "3*4"
   ]
  },
  {
   "cell_type": "markdown",
   "id": "4022c322",
   "metadata": {},
   "source": [
    "***\n",
    "Section 1\n",
    "***\n",
    "\\begin{align*}\n",
    "&\\max x + y + 2z\\\\\n",
    "&\\mbox{s.r.}\\\\\n",
    "& x + 2y + 3z \\leq 4\\\\\n",
    "& x + y \\geq 1\\\\\n",
    "& x,y,z \\in \\{0, 1\\}\n",
    "\\end{align*}\n",
    "***\n",
    "**Table**\n",
    "\n",
    "| *Carbohidratos* | **Proteinas** | *Grasas* |\n",
    "|:-------------:|:---------:|:------:|\n",
    "| 12337.6       | 3104.4    | 3780   |"
   ]
  }
 ],
 "metadata": {
  "kernelspec": {
   "display_name": "Python 3",
   "language": "python",
   "name": "python3"
  },
  "language_info": {
   "codemirror_mode": {
    "name": "ipython",
    "version": 3
   },
   "file_extension": ".py",
   "mimetype": "text/x-python",
   "name": "python",
   "nbconvert_exporter": "python",
   "pygments_lexer": "ipython3",
   "version": "3.8.8"
  }
 },
 "nbformat": 4,
 "nbformat_minor": 5
}
